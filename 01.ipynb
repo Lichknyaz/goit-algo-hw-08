{
 "cells": [
  {
   "metadata": {},
   "cell_type": "markdown",
   "source": [
    "# Завдання 1\n",
    "\n",
    "Є декілька мережевих кабелів різної довжини, їх потрібно об'єднати по два за раз в один кабель, використовуючи з'єднувачі, у порядку, який призведе до найменших витрат. Витрати на з'єднання двох кабелів дорівнюють їхній сумі довжин, а загальні витрати дорівнюють сумі з'єднання всіх кабелів.\n",
    "\n",
    "Завдання полягає в тому, щоб знайти порядок об'єднання, який мінімізує загальні витрати."
   ],
   "id": "61fe62b550f5c8f3"
  },
  {
   "metadata": {},
   "cell_type": "markdown",
   "source": [
    "Для вирішення треба з'єднувати 2 найкоротші кабелі, а потім отриманий кабель додаємо до усіх та знову вибірємо 2 найкоротші.\n",
    "\n",
    "Повторюємо поки не з'єднаємо усі кабелі."
   ],
   "id": "be14f2ce14d4b473"
  },
  {
   "metadata": {
    "ExecuteTime": {
     "end_time": "2024-07-26T05:28:49.475774Z",
     "start_time": "2024-07-26T05:28:49.471484Z"
    }
   },
   "cell_type": "code",
   "source": [
    "import heapq\n",
    "\n",
    "def cable_heap(nums):\n",
    "    total = 0\n",
    "    heapq.heapify(nums)\n",
    "    while len(nums) > 1:\n",
    "        min1 = heapq.heappop(nums)\n",
    "        min2 = heapq.heappop(nums)\n",
    "        print(f\"Lowest: {min1}, {min2}\")\n",
    "        temp = min1 + min2\n",
    "        print(f\"Temp: {temp}\")\n",
    "        total += temp\n",
    "        heapq.heappush(nums, temp)\n",
    "        print(f\"Intermediate heap: {nums}\")\n",
    "    print(f\"Final: {total}\")"
   ],
   "id": "670a76e463d0b806",
   "outputs": [],
   "execution_count": 17
  },
  {
   "metadata": {
    "ExecuteTime": {
     "end_time": "2024-07-26T05:28:50.785317Z",
     "start_time": "2024-07-26T05:28:50.780688Z"
    }
   },
   "cell_type": "code",
   "source": [
    "cables = [1,2,3,4,5,6,7,8,9,10]\n",
    "cable_heap(cables)"
   ],
   "id": "6253ce2d50fdebef",
   "outputs": [
    {
     "name": "stdout",
     "output_type": "stream",
     "text": [
      "Lowest: 1, 2\n",
      "Temp: 3\n",
      "Intermediate heap: [3, 3, 6, 4, 5, 9, 7, 10, 8]\n",
      "Lowest: 3, 3\n",
      "Temp: 6\n",
      "Intermediate heap: [4, 5, 6, 6, 10, 9, 7, 8]\n",
      "Lowest: 4, 5\n",
      "Temp: 9\n",
      "Intermediate heap: [6, 6, 7, 8, 10, 9, 9]\n",
      "Lowest: 6, 6\n",
      "Temp: 12\n",
      "Intermediate heap: [7, 8, 9, 9, 10, 12]\n",
      "Lowest: 7, 8\n",
      "Temp: 15\n",
      "Intermediate heap: [9, 9, 10, 12, 15]\n",
      "Lowest: 9, 9\n",
      "Temp: 18\n",
      "Intermediate heap: [10, 12, 15, 18]\n",
      "Lowest: 10, 12\n",
      "Temp: 22\n",
      "Intermediate heap: [15, 18, 22]\n",
      "Lowest: 15, 18\n",
      "Temp: 33\n",
      "Intermediate heap: [22, 33]\n",
      "Lowest: 22, 33\n",
      "Temp: 55\n",
      "Intermediate heap: [55]\n",
      "Final: 173\n"
     ]
    }
   ],
   "execution_count": 18
  }
 ],
 "metadata": {
  "kernelspec": {
   "display_name": "Python 3",
   "language": "python",
   "name": "python3"
  },
  "language_info": {
   "codemirror_mode": {
    "name": "ipython",
    "version": 2
   },
   "file_extension": ".py",
   "mimetype": "text/x-python",
   "name": "python",
   "nbconvert_exporter": "python",
   "pygments_lexer": "ipython2",
   "version": "2.7.6"
  }
 },
 "nbformat": 4,
 "nbformat_minor": 5
}
